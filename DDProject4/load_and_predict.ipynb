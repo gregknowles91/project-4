{
 "cells": [
  {
   "cell_type": "code",
   "execution_count": 1,
   "metadata": {},
   "outputs": [],
   "source": [
    "import pandas as pd\n",
    "import joblib\n",
    "import numpy as np"
   ]
  },
  {
   "cell_type": "code",
   "execution_count": 2,
   "metadata": {},
   "outputs": [
    {
     "name": "stdout",
     "output_type": "stream",
     "text": [
      "Model loaded successfully!\n"
     ]
    }
   ],
   "source": [
    "# Load trained model\n",
    "model = joblib.load(\"power_to_price_model.joblib\")\n",
    "print(\"Model loaded successfully!\")"
   ]
  },
  {
   "cell_type": "code",
   "execution_count": 5,
   "metadata": {},
   "outputs": [
    {
     "data": {
      "text/html": [
       "<div>\n",
       "<style scoped>\n",
       "    .dataframe tbody tr th:only-of-type {\n",
       "        vertical-align: middle;\n",
       "    }\n",
       "\n",
       "    .dataframe tbody tr th {\n",
       "        vertical-align: top;\n",
       "    }\n",
       "\n",
       "    .dataframe thead th {\n",
       "        text-align: right;\n",
       "    }\n",
       "</style>\n",
       "<table border=\"1\" class=\"dataframe\">\n",
       "  <thead>\n",
       "    <tr style=\"text-align: right;\">\n",
       "      <th></th>\n",
       "      <th>price_numeric $</th>\n",
       "      <th>vehicle_age</th>\n",
       "      <th>milage_numeric</th>\n",
       "      <th>engine_hp HP</th>\n",
       "      <th>brand</th>\n",
       "    </tr>\n",
       "  </thead>\n",
       "  <tbody>\n",
       "    <tr>\n",
       "      <th>0</th>\n",
       "      <td>15000</td>\n",
       "      <td>5</td>\n",
       "      <td>50000</td>\n",
       "      <td>250</td>\n",
       "      <td>Toyota</td>\n",
       "    </tr>\n",
       "    <tr>\n",
       "      <th>1</th>\n",
       "      <td>22000</td>\n",
       "      <td>3</td>\n",
       "      <td>30000</td>\n",
       "      <td>300</td>\n",
       "      <td>BMW</td>\n",
       "    </tr>\n",
       "    <tr>\n",
       "      <th>2</th>\n",
       "      <td>60000</td>\n",
       "      <td>1</td>\n",
       "      <td>3000</td>\n",
       "      <td>400</td>\n",
       "      <td>Mercedes</td>\n",
       "    </tr>\n",
       "  </tbody>\n",
       "</table>\n",
       "</div>"
      ],
      "text/plain": [
       "   price_numeric $  vehicle_age  milage_numeric  engine_hp HP     brand\n",
       "0            15000            5           50000           250    Toyota\n",
       "1            22000            3           30000           300       BMW\n",
       "2            60000            1            3000           400  Mercedes"
      ]
     },
     "execution_count": 5,
     "metadata": {},
     "output_type": "execute_result"
    }
   ],
   "source": [
    "# Example new data\n",
    "new_data = pd.DataFrame({\n",
    "    'price_numeric $': [15000, 22000, 60000],\n",
    "    'vehicle_age': [5, 3,1],\n",
    "    'milage_numeric': [50000, 30000,3000],\n",
    "    'engine_hp HP': [250, 300, 400],\n",
    "    'brand': ['Toyota', 'BMW', 'Mercedes'],\n",
    "})\n",
    "\n",
    "new_data"
   ]
  },
  {
   "cell_type": "code",
   "execution_count": 7,
   "metadata": {},
   "outputs": [
    {
     "data": {
      "text/html": [
       "<div>\n",
       "<style scoped>\n",
       "    .dataframe tbody tr th:only-of-type {\n",
       "        vertical-align: middle;\n",
       "    }\n",
       "\n",
       "    .dataframe tbody tr th {\n",
       "        vertical-align: top;\n",
       "    }\n",
       "\n",
       "    .dataframe thead th {\n",
       "        text-align: right;\n",
       "    }\n",
       "</style>\n",
       "<table border=\"1\" class=\"dataframe\">\n",
       "  <thead>\n",
       "    <tr style=\"text-align: right;\">\n",
       "      <th></th>\n",
       "      <th>price_numeric $</th>\n",
       "      <th>vehicle_age</th>\n",
       "      <th>milage_numeric</th>\n",
       "      <th>engine_hp HP</th>\n",
       "      <th>brand</th>\n",
       "      <th>predicted_power_to_price</th>\n",
       "    </tr>\n",
       "  </thead>\n",
       "  <tbody>\n",
       "    <tr>\n",
       "      <th>0</th>\n",
       "      <td>15000</td>\n",
       "      <td>5</td>\n",
       "      <td>50000</td>\n",
       "      <td>250</td>\n",
       "      <td>Toyota</td>\n",
       "      <td>16.3488</td>\n",
       "    </tr>\n",
       "    <tr>\n",
       "      <th>1</th>\n",
       "      <td>22000</td>\n",
       "      <td>3</td>\n",
       "      <td>30000</td>\n",
       "      <td>300</td>\n",
       "      <td>BMW</td>\n",
       "      <td>13.5954</td>\n",
       "    </tr>\n",
       "    <tr>\n",
       "      <th>2</th>\n",
       "      <td>60000</td>\n",
       "      <td>1</td>\n",
       "      <td>3000</td>\n",
       "      <td>400</td>\n",
       "      <td>Mercedes</td>\n",
       "      <td>6.5877</td>\n",
       "    </tr>\n",
       "  </tbody>\n",
       "</table>\n",
       "</div>"
      ],
      "text/plain": [
       "   price_numeric $  vehicle_age  milage_numeric  engine_hp HP     brand  \\\n",
       "0            15000            5           50000           250    Toyota   \n",
       "1            22000            3           30000           300       BMW   \n",
       "2            60000            1            3000           400  Mercedes   \n",
       "\n",
       "   predicted_power_to_price  \n",
       "0                   16.3488  \n",
       "1                   13.5954  \n",
       "2                    6.5877  "
      ]
     },
     "execution_count": 7,
     "metadata": {},
     "output_type": "execute_result"
    }
   ],
   "source": [
    "# Predict power-to-price ratio\n",
    "predictions = model.predict(new_data)\n",
    "new_data['predicted_power_to_price'] = predictions\n",
    "new_data"
   ]
  },
  {
   "cell_type": "code",
   "execution_count": 8,
   "metadata": {},
   "outputs": [
    {
     "name": "stdout",
     "output_type": "stream",
     "text": [
      "Predictions saved to 'predicted_power_to_price.csv'\n"
     ]
    }
   ],
   "source": [
    "# Save predictions to CSV\n",
    "new_data.to_csv(\"predicted_power_to_price.csv\", index=False)\n",
    "print(\"Predictions saved to 'predicted_power_to_price.csv'\")\n"
   ]
  }
 ],
 "metadata": {
  "kernelspec": {
   "display_name": "base",
   "language": "python",
   "name": "python3"
  },
  "language_info": {
   "codemirror_mode": {
    "name": "ipython",
    "version": 3
   },
   "file_extension": ".py",
   "mimetype": "text/x-python",
   "name": "python",
   "nbconvert_exporter": "python",
   "pygments_lexer": "ipython3",
   "version": "3.12.2"
  }
 },
 "nbformat": 4,
 "nbformat_minor": 2
}
