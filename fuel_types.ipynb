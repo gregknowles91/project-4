{
 "cells": [
  {
   "cell_type": "code",
   "execution_count": 12,
   "id": "d0fa8dda",
   "metadata": {},
   "outputs": [],
   "source": [
    "import pandas as pd\n",
    "\n",
    "# Load CSVs\n",
    "df1 = pd.read_csv('Used Car Dataset (1).csv')\n",
    "df2 = pd.read_csv('used_cars (2).csv')"
   ]
  },
  {
   "cell_type": "code",
   "execution_count": 14,
   "id": "a91a803f",
   "metadata": {},
   "outputs": [
    {
     "name": "stdout",
     "output_type": "stream",
     "text": [
      "['unnamed:_0', 'car_name', 'registration_year', 'insurance_validity', 'fuel_type', 'seats', 'kms_driven', 'ownsership', 'transmission', 'manufacturing_year', 'mileagekmpl', 'enginecc', 'max_powerbhp', 'torquenm', 'pricein_lakhs']\n"
     ]
    }
   ],
   "source": [
    "print(df1.columns.tolist())\n",
    "\n",
    "\n"
   ]
  },
  {
   "cell_type": "code",
   "execution_count": 18,
   "id": "4f2033ad",
   "metadata": {},
   "outputs": [],
   "source": [
    "# Ensure manufacturing_year is numeric\n",
    "df1['manufacturing_year'] = pd.to_numeric(df1['manufacturing_year'], errors='coerce')\n",
    "\n",
    "# Drop rows with invalid years\n",
    "df1 = df1.dropna(subset=['manufacturing_year'])\n",
    "\n",
    "# Calculate vehicle age\n",
    "current_year = 2025\n",
    "df1['vehicle_age'] = current_year - df1['manufacturing_year']\n",
    "\n"
   ]
  },
  {
   "cell_type": "code",
   "execution_count": null,
   "id": "4ed20f96",
   "metadata": {},
   "outputs": [
    {
     "name": "stdout",
     "output_type": "stream",
     "text": [
      "Cleaned columns: ['unnamed:_0', 'car_name', 'registration_year', 'insurance_validity', 'fuel_type', 'seats', 'kms_driven', 'ownsership', 'transmission', 'manufacturing_year', 'mileagekmpl', 'enginecc', 'max_powerbhp', 'torquenm', 'pricein_lakhs', 'vehicle_age']\n",
      "  fuel_type  pricein_lakhs  kms_driven  vehicle_age\n",
      "0    Petrol          63.75       56000          8.0\n",
      "1    Petrol           8.99       30615          5.0\n",
      "2    Diesel          23.75       24000          7.0\n",
      "3    Petrol          13.56       18378          6.0\n",
      "4    Petrol          24.00       44900          6.0\n",
      "        unnamed:_0        seats     kms_driven  manufacturing_year  \\\n",
      "count  1501.000000  1501.000000    1501.000000         1501.000000   \n",
      "mean    781.990673     5.205863   52193.395070         2017.367755   \n",
      "std     447.789705     0.636338   29780.647109            3.008765   \n",
      "min       0.000000     4.000000     620.000000         2007.000000   \n",
      "25%     402.000000     5.000000   30000.000000         2015.000000   \n",
      "50%     788.000000     5.000000   49441.000000         2018.000000   \n",
      "75%    1168.000000     5.000000   70000.000000         2019.000000   \n",
      "max    1552.000000     8.000000  260000.000000         2023.000000   \n",
      "\n",
      "       mileagekmpl      enginecc  max_powerbhp      torquenm  pricein_lakhs  \\\n",
      "count  1498.000000  1.498000e+03  1.498000e+03  1.497000e+03    1501.000000   \n",
      "mean    187.395808  1.522950e+10  1.522950e+10  1.274543e+04     171.317961   \n",
      "std     516.751944  2.223090e+11  2.223090e+11  8.274692e+04    3538.527765   \n",
      "min       7.810000  5.000000e+00  5.000000e+00  1.900000e+01       1.000000   \n",
      "25%      16.100000  1.197000e+03  1.197000e+03  5.000000e+02       4.610000   \n",
      "50%      18.760000  1.493000e+03  1.493000e+03  1.176000e+03       6.950000   \n",
      "75%      21.400000  1.995000e+03  1.995000e+03  8.850000e+03      16.000000   \n",
      "max    3996.000000  3.258640e+12  3.258640e+12  1.186600e+06   95000.000000   \n",
      "\n",
      "       vehicle_age  \n",
      "count  1501.000000  \n",
      "mean      7.632245  \n",
      "std       3.008765  \n",
      "min       2.000000  \n",
      "25%       6.000000  \n",
      "50%       7.000000  \n",
      "75%      10.000000  \n",
      "max      18.000000  \n"
     ]
    }
   ],
   "source": [
    "# Rename columns for consistency\n",
    "df1.columns = df1.columns.str.lower().str.strip().str.replace(' ', '_').str.replace('[()]', '', regex=True)\n",
    "\n",
    "# Print column names to verify structure\n",
    "print(\"Cleaned columns:\", df1.columns.tolist())\n",
    "\n",
    "# Drop rows with missing values in key columns\n",
    "df1 = df1.dropna(subset=['pricein_lakhs', 'fuel_type'])\n",
    "\n",
    "# Convert 'kms_driven' to numeric\n",
    "df1['kms_driven'] = pd.to_numeric(df1['kms_driven'], errors='coerce')\n",
    "\n",
    "# Remove outliers\n",
    "df1 = df1[(df1['pricein_lakhs'] > 0) & (df1['kms_driven'] < 500000)]\n",
    "\n",
    "# Drop rows with missing manufacturing year\n",
    "df1 = df1.dropna(subset=['manufacturing_year'])\n",
    "\n",
    "# Calculate vehicle age\n",
    "current_year = 2025\n",
    "df1['vehicle_age'] = current_year - df1['manufacturing_year']\n",
    "\n",
    "# Reset index after filtering\n",
    "df1.reset_index(drop=True, inplace=True)\n",
    "\n",
    "# Display the cleaned DF\n",
    "print(df1[['fuel_type', 'pricein_lakhs', 'kms_driven', 'vehicle_age']].head())\n",
    "print(df1.describe())\n"
   ]
  },
  {
   "cell_type": "code",
   "execution_count": null,
   "id": "6596a7d8",
   "metadata": {},
   "outputs": [],
   "source": [
    "df2.columns = df2.columns.str.lower().str.strip().str.replace(' ', '_')\n",
    "\n",
    "# Drop rows with null prices or fuel type\n",
    "df2 = df2.dropna(subset=['price', 'fuel_type'])\n",
    "\n",
    "# Make column names to merge\n",
    "df2.rename(columns={'model_year': 'manufacturing_year'}, inplace=True)\n",
    "df2['vehicle_age'] = current_year - df2['manufacturing_year']\n"
   ]
  },
  {
   "cell_type": "code",
   "execution_count": null,
   "id": "b410317f",
   "metadata": {},
   "outputs": [
    {
     "name": "stdout",
     "output_type": "stream",
     "text": [
      "['brand', 'model', 'manufacturing_year', 'milage', 'fuel_type', 'engine', 'transmission', 'ext_col', 'int_col', 'accident', 'clean_title', 'price', 'vehicle_age']\n"
     ]
    }
   ],
   "source": [
    "# Check columns in df2 to confirm the correct column names\n",
    "print(df2.columns.tolist())\n",
    "\n",
    "# Rename price column in df2\n",
    "df2.rename(columns={'price': 'pricein_lakhs'}, inplace=True)\n",
    "\n",
    "# Select the common columns and combine\n",
    "df1_trimmed = df1[common_cols].copy()\n",
    "df2_trimmed = df2[common_cols].copy()\n",
    "\n",
    "# Combine datasets\n",
    "combined_df = pd.concat([df1_trimmed, df2_trimmed], ignore_index=True)\n",
    "\n",
    "# Save combined data\n",
    "combined_df.to_csv('combined_used_car_data.csv', index=False)\n",
    "\n",
    "\n",
    "\n"
   ]
  }
 ],
 "metadata": {
  "kernelspec": {
   "display_name": "base",
   "language": "python",
   "name": "python3"
  },
  "language_info": {
   "codemirror_mode": {
    "name": "ipython",
    "version": 3
   },
   "file_extension": ".py",
   "mimetype": "text/x-python",
   "name": "python",
   "nbconvert_exporter": "python",
   "pygments_lexer": "ipython3",
   "version": "3.12.3"
  }
 },
 "nbformat": 4,
 "nbformat_minor": 5
}
